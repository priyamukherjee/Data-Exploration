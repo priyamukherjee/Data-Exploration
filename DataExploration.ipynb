{
 "cells": [
  {
   "cell_type": "markdown",
   "metadata": {},
   "source": [
    "# Data Exploration Assignment "
   ]
  },
  {
   "cell_type": "markdown",
   "metadata": {},
   "source": [
    "Name: Priya Mukherjee <br>\n",
    "ZID: Z1835791"
   ]
  },
  {
   "cell_type": "code",
   "execution_count": 501,
   "metadata": {},
   "outputs": [],
   "source": [
    "# import datasets from sklearn to access the Boston House Price dataset\n",
    "from sklearn import datasets "
   ]
  },
  {
   "cell_type": "code",
   "execution_count": 502,
   "metadata": {},
   "outputs": [],
   "source": [
    "# load the Boston House Prices dataset\n",
    "boston = datasets.load_boston() "
   ]
  },
  {
   "cell_type": "code",
   "execution_count": 503,
   "metadata": {},
   "outputs": [
    {
     "data": {
      "text/plain": [
       "['DESCR', 'data', 'feature_names', 'target']"
      ]
     },
     "execution_count": 503,
     "metadata": {},
     "output_type": "execute_result"
    }
   ],
   "source": [
    "# print the available attributes and methods of Boston House Prices dataset\n",
    "dir(boston)"
   ]
  },
  {
   "cell_type": "code",
   "execution_count": 504,
   "metadata": {
    "scrolled": true
   },
   "outputs": [
    {
     "name": "stdout",
     "output_type": "stream",
     "text": [
      "(506, 13)\n"
     ]
    }
   ],
   "source": [
    "# print the size of each dimension\n",
    "print(boston.data.shape)"
   ]
  },
  {
   "cell_type": "code",
   "execution_count": 505,
   "metadata": {},
   "outputs": [
    {
     "name": "stdout",
     "output_type": "stream",
     "text": [
      "Boston House Prices dataset\n",
      "===========================\n",
      "\n",
      "Notes\n",
      "------\n",
      "Data Set Characteristics:  \n",
      "\n",
      "    :Number of Instances: 506 \n",
      "\n",
      "    :Number of Attributes: 13 numeric/categorical predictive\n",
      "    \n",
      "    :Median Value (attribute 14) is usually the target\n",
      "\n",
      "    :Attribute Information (in order):\n",
      "        - CRIM     per capita crime rate by town\n",
      "        - ZN       proportion of residential land zoned for lots over 25,000 sq.ft.\n",
      "        - INDUS    proportion of non-retail business acres per town\n",
      "        - CHAS     Charles River dummy variable (= 1 if tract bounds river; 0 otherwise)\n",
      "        - NOX      nitric oxides concentration (parts per 10 million)\n",
      "        - RM       average number of rooms per dwelling\n",
      "        - AGE      proportion of owner-occupied units built prior to 1940\n",
      "        - DIS      weighted distances to five Boston employment centres\n",
      "        - RAD      index of accessibility to radial highways\n",
      "        - TAX      full-value property-tax rate per $10,000\n",
      "        - PTRATIO  pupil-teacher ratio by town\n",
      "        - B        1000(Bk - 0.63)^2 where Bk is the proportion of blacks by town\n",
      "        - LSTAT    % lower status of the population\n",
      "        - MEDV     Median value of owner-occupied homes in $1000's\n",
      "\n",
      "    :Missing Attribute Values: None\n",
      "\n",
      "    :Creator: Harrison, D. and Rubinfeld, D.L.\n",
      "\n",
      "This is a copy of UCI ML housing dataset.\n",
      "http://archive.ics.uci.edu/ml/datasets/Housing\n",
      "\n",
      "\n",
      "This dataset was taken from the StatLib library which is maintained at Carnegie Mellon University.\n",
      "\n",
      "The Boston house-price data of Harrison, D. and Rubinfeld, D.L. 'Hedonic\n",
      "prices and the demand for clean air', J. Environ. Economics & Management,\n",
      "vol.5, 81-102, 1978.   Used in Belsley, Kuh & Welsch, 'Regression diagnostics\n",
      "...', Wiley, 1980.   N.B. Various transformations are used in the table on\n",
      "pages 244-261 of the latter.\n",
      "\n",
      "The Boston house-price data has been used in many machine learning papers that address regression\n",
      "problems.   \n",
      "     \n",
      "**References**\n",
      "\n",
      "   - Belsley, Kuh & Welsch, 'Regression diagnostics: Identifying Influential Data and Sources of Collinearity', Wiley, 1980. 244-261.\n",
      "   - Quinlan,R. (1993). Combining Instance-Based and Model-Based Learning. In Proceedings on the Tenth International Conference of Machine Learning, 236-243, University of Massachusetts, Amherst. Morgan Kaufmann.\n",
      "   - many more! (see http://archive.ics.uci.edu/ml/datasets/Housing)\n",
      "\n"
     ]
    }
   ],
   "source": [
    "# print the description 'DESCR' of the Boston House Prices dataset\n",
    "print(boston.DESCR)"
   ]
  },
  {
   "cell_type": "code",
   "execution_count": 506,
   "metadata": {},
   "outputs": [
    {
     "data": {
      "text/plain": [
       "array(['CRIM', 'ZN', 'INDUS', 'CHAS', 'NOX', 'RM', 'AGE', 'DIS', 'RAD',\n",
       "       'TAX', 'PTRATIO', 'B', 'LSTAT'], dtype='<U7')"
      ]
     },
     "execution_count": 506,
     "metadata": {},
     "output_type": "execute_result"
    }
   ],
   "source": [
    "# print the feature names available in the Boston House Price dataset\n",
    "boston.feature_names"
   ]
  },
  {
   "cell_type": "code",
   "execution_count": 507,
   "metadata": {},
   "outputs": [],
   "source": [
    "# import DataFrame from Pandas\n",
    "import pandas as pd\n",
    "from pandas import DataFrame"
   ]
  },
  {
   "cell_type": "code",
   "execution_count": 508,
   "metadata": {},
   "outputs": [],
   "source": [
    "# create an empty dictionary  and store the feature and target values in it.\n",
    "# construct a Dataframe from dictionary.\n",
    "myData = {}\n",
    "myData['MEDV'] = boston.target\n",
    "myData['AGE'] = boston.data[:,6]\n",
    "myData['NOX'] = boston.data[:,4]\n",
    "myData['DIS'] = boston.data[:,7]\n",
    "myDataFrame = pd.DataFrame(myData)"
   ]
  },
  {
   "cell_type": "code",
   "execution_count": 509,
   "metadata": {},
   "outputs": [
    {
     "data": {
      "text/html": [
       "<div>\n",
       "<style scoped>\n",
       "    .dataframe tbody tr th:only-of-type {\n",
       "        vertical-align: middle;\n",
       "    }\n",
       "\n",
       "    .dataframe tbody tr th {\n",
       "        vertical-align: top;\n",
       "    }\n",
       "\n",
       "    .dataframe thead th {\n",
       "        text-align: right;\n",
       "    }\n",
       "</style>\n",
       "<table border=\"1\" class=\"dataframe\">\n",
       "  <thead>\n",
       "    <tr style=\"text-align: right;\">\n",
       "      <th></th>\n",
       "      <th>MEDV</th>\n",
       "      <th>AGE</th>\n",
       "      <th>NOX</th>\n",
       "      <th>DIS</th>\n",
       "    </tr>\n",
       "  </thead>\n",
       "  <tbody>\n",
       "    <tr>\n",
       "      <th>0</th>\n",
       "      <td>24.0</td>\n",
       "      <td>65.2</td>\n",
       "      <td>0.538</td>\n",
       "      <td>4.0900</td>\n",
       "    </tr>\n",
       "    <tr>\n",
       "      <th>1</th>\n",
       "      <td>21.6</td>\n",
       "      <td>78.9</td>\n",
       "      <td>0.469</td>\n",
       "      <td>4.9671</td>\n",
       "    </tr>\n",
       "    <tr>\n",
       "      <th>2</th>\n",
       "      <td>34.7</td>\n",
       "      <td>61.1</td>\n",
       "      <td>0.469</td>\n",
       "      <td>4.9671</td>\n",
       "    </tr>\n",
       "    <tr>\n",
       "      <th>3</th>\n",
       "      <td>33.4</td>\n",
       "      <td>45.8</td>\n",
       "      <td>0.458</td>\n",
       "      <td>6.0622</td>\n",
       "    </tr>\n",
       "    <tr>\n",
       "      <th>4</th>\n",
       "      <td>36.2</td>\n",
       "      <td>54.2</td>\n",
       "      <td>0.458</td>\n",
       "      <td>6.0622</td>\n",
       "    </tr>\n",
       "    <tr>\n",
       "      <th>5</th>\n",
       "      <td>28.7</td>\n",
       "      <td>58.7</td>\n",
       "      <td>0.458</td>\n",
       "      <td>6.0622</td>\n",
       "    </tr>\n",
       "    <tr>\n",
       "      <th>6</th>\n",
       "      <td>22.9</td>\n",
       "      <td>66.6</td>\n",
       "      <td>0.524</td>\n",
       "      <td>5.5605</td>\n",
       "    </tr>\n",
       "    <tr>\n",
       "      <th>7</th>\n",
       "      <td>27.1</td>\n",
       "      <td>96.1</td>\n",
       "      <td>0.524</td>\n",
       "      <td>5.9505</td>\n",
       "    </tr>\n",
       "    <tr>\n",
       "      <th>8</th>\n",
       "      <td>16.5</td>\n",
       "      <td>100.0</td>\n",
       "      <td>0.524</td>\n",
       "      <td>6.0821</td>\n",
       "    </tr>\n",
       "    <tr>\n",
       "      <th>9</th>\n",
       "      <td>18.9</td>\n",
       "      <td>85.9</td>\n",
       "      <td>0.524</td>\n",
       "      <td>6.5921</td>\n",
       "    </tr>\n",
       "  </tbody>\n",
       "</table>\n",
       "</div>"
      ],
      "text/plain": [
       "   MEDV    AGE    NOX     DIS\n",
       "0  24.0   65.2  0.538  4.0900\n",
       "1  21.6   78.9  0.469  4.9671\n",
       "2  34.7   61.1  0.469  4.9671\n",
       "3  33.4   45.8  0.458  6.0622\n",
       "4  36.2   54.2  0.458  6.0622\n",
       "5  28.7   58.7  0.458  6.0622\n",
       "6  22.9   66.6  0.524  5.5605\n",
       "7  27.1   96.1  0.524  5.9505\n",
       "8  16.5  100.0  0.524  6.0821\n",
       "9  18.9   85.9  0.524  6.5921"
      ]
     },
     "execution_count": 509,
     "metadata": {},
     "output_type": "execute_result"
    }
   ],
   "source": [
    "# return the first 10 rows of the DataFrame using head function\n",
    "myDataFrame.head(10)"
   ]
  },
  {
   "cell_type": "code",
   "execution_count": 510,
   "metadata": {
    "scrolled": true
   },
   "outputs": [
    {
     "data": {
      "text/html": [
       "<div>\n",
       "<style scoped>\n",
       "    .dataframe tbody tr th:only-of-type {\n",
       "        vertical-align: middle;\n",
       "    }\n",
       "\n",
       "    .dataframe tbody tr th {\n",
       "        vertical-align: top;\n",
       "    }\n",
       "\n",
       "    .dataframe thead th {\n",
       "        text-align: right;\n",
       "    }\n",
       "</style>\n",
       "<table border=\"1\" class=\"dataframe\">\n",
       "  <thead>\n",
       "    <tr style=\"text-align: right;\">\n",
       "      <th></th>\n",
       "      <th>MEDV</th>\n",
       "      <th>AGE</th>\n",
       "      <th>NOX</th>\n",
       "      <th>DIS</th>\n",
       "    </tr>\n",
       "  </thead>\n",
       "  <tbody>\n",
       "    <tr>\n",
       "      <th>496</th>\n",
       "      <td>19.7</td>\n",
       "      <td>72.9</td>\n",
       "      <td>0.585</td>\n",
       "      <td>2.7986</td>\n",
       "    </tr>\n",
       "    <tr>\n",
       "      <th>497</th>\n",
       "      <td>18.3</td>\n",
       "      <td>70.6</td>\n",
       "      <td>0.585</td>\n",
       "      <td>2.8927</td>\n",
       "    </tr>\n",
       "    <tr>\n",
       "      <th>498</th>\n",
       "      <td>21.2</td>\n",
       "      <td>65.3</td>\n",
       "      <td>0.585</td>\n",
       "      <td>2.4091</td>\n",
       "    </tr>\n",
       "    <tr>\n",
       "      <th>499</th>\n",
       "      <td>17.5</td>\n",
       "      <td>73.5</td>\n",
       "      <td>0.585</td>\n",
       "      <td>2.3999</td>\n",
       "    </tr>\n",
       "    <tr>\n",
       "      <th>500</th>\n",
       "      <td>16.8</td>\n",
       "      <td>79.7</td>\n",
       "      <td>0.585</td>\n",
       "      <td>2.4982</td>\n",
       "    </tr>\n",
       "    <tr>\n",
       "      <th>501</th>\n",
       "      <td>22.4</td>\n",
       "      <td>69.1</td>\n",
       "      <td>0.573</td>\n",
       "      <td>2.4786</td>\n",
       "    </tr>\n",
       "    <tr>\n",
       "      <th>502</th>\n",
       "      <td>20.6</td>\n",
       "      <td>76.7</td>\n",
       "      <td>0.573</td>\n",
       "      <td>2.2875</td>\n",
       "    </tr>\n",
       "    <tr>\n",
       "      <th>503</th>\n",
       "      <td>23.9</td>\n",
       "      <td>91.0</td>\n",
       "      <td>0.573</td>\n",
       "      <td>2.1675</td>\n",
       "    </tr>\n",
       "    <tr>\n",
       "      <th>504</th>\n",
       "      <td>22.0</td>\n",
       "      <td>89.3</td>\n",
       "      <td>0.573</td>\n",
       "      <td>2.3889</td>\n",
       "    </tr>\n",
       "    <tr>\n",
       "      <th>505</th>\n",
       "      <td>11.9</td>\n",
       "      <td>80.8</td>\n",
       "      <td>0.573</td>\n",
       "      <td>2.5050</td>\n",
       "    </tr>\n",
       "  </tbody>\n",
       "</table>\n",
       "</div>"
      ],
      "text/plain": [
       "     MEDV   AGE    NOX     DIS\n",
       "496  19.7  72.9  0.585  2.7986\n",
       "497  18.3  70.6  0.585  2.8927\n",
       "498  21.2  65.3  0.585  2.4091\n",
       "499  17.5  73.5  0.585  2.3999\n",
       "500  16.8  79.7  0.585  2.4982\n",
       "501  22.4  69.1  0.573  2.4786\n",
       "502  20.6  76.7  0.573  2.2875\n",
       "503  23.9  91.0  0.573  2.1675\n",
       "504  22.0  89.3  0.573  2.3889\n",
       "505  11.9  80.8  0.573  2.5050"
      ]
     },
     "execution_count": 510,
     "metadata": {},
     "output_type": "execute_result"
    }
   ],
   "source": [
    "# return the last 10 rows of the DataFrame using tail function\n",
    "myDataFrame.tail(10)"
   ]
  },
  {
   "cell_type": "markdown",
   "metadata": {},
   "source": [
    "# Housing Price Analysis "
   ]
  },
  {
   "cell_type": "code",
   "execution_count": 511,
   "metadata": {
    "scrolled": false
   },
   "outputs": [
    {
     "data": {
      "text/html": [
       "<div>\n",
       "<style scoped>\n",
       "    .dataframe tbody tr th:only-of-type {\n",
       "        vertical-align: middle;\n",
       "    }\n",
       "\n",
       "    .dataframe tbody tr th {\n",
       "        vertical-align: top;\n",
       "    }\n",
       "\n",
       "    .dataframe thead th {\n",
       "        text-align: right;\n",
       "    }\n",
       "</style>\n",
       "<table border=\"1\" class=\"dataframe\">\n",
       "  <thead>\n",
       "    <tr style=\"text-align: right;\">\n",
       "      <th></th>\n",
       "      <th>MEDV</th>\n",
       "      <th>AGE</th>\n",
       "      <th>NOX</th>\n",
       "      <th>DIS</th>\n",
       "    </tr>\n",
       "  </thead>\n",
       "  <tbody>\n",
       "    <tr>\n",
       "      <th>count</th>\n",
       "      <td>506.000000</td>\n",
       "      <td>506.000000</td>\n",
       "      <td>506.000000</td>\n",
       "      <td>506.000000</td>\n",
       "    </tr>\n",
       "    <tr>\n",
       "      <th>mean</th>\n",
       "      <td>22.532806</td>\n",
       "      <td>68.574901</td>\n",
       "      <td>0.554695</td>\n",
       "      <td>3.795043</td>\n",
       "    </tr>\n",
       "    <tr>\n",
       "      <th>std</th>\n",
       "      <td>9.197104</td>\n",
       "      <td>28.148861</td>\n",
       "      <td>0.115878</td>\n",
       "      <td>2.105710</td>\n",
       "    </tr>\n",
       "    <tr>\n",
       "      <th>min</th>\n",
       "      <td>5.000000</td>\n",
       "      <td>2.900000</td>\n",
       "      <td>0.385000</td>\n",
       "      <td>1.129600</td>\n",
       "    </tr>\n",
       "    <tr>\n",
       "      <th>25%</th>\n",
       "      <td>17.025000</td>\n",
       "      <td>45.025000</td>\n",
       "      <td>0.449000</td>\n",
       "      <td>2.100175</td>\n",
       "    </tr>\n",
       "    <tr>\n",
       "      <th>50%</th>\n",
       "      <td>21.200000</td>\n",
       "      <td>77.500000</td>\n",
       "      <td>0.538000</td>\n",
       "      <td>3.207450</td>\n",
       "    </tr>\n",
       "    <tr>\n",
       "      <th>75%</th>\n",
       "      <td>25.000000</td>\n",
       "      <td>94.075000</td>\n",
       "      <td>0.624000</td>\n",
       "      <td>5.188425</td>\n",
       "    </tr>\n",
       "    <tr>\n",
       "      <th>max</th>\n",
       "      <td>50.000000</td>\n",
       "      <td>100.000000</td>\n",
       "      <td>0.871000</td>\n",
       "      <td>12.126500</td>\n",
       "    </tr>\n",
       "  </tbody>\n",
       "</table>\n",
       "</div>"
      ],
      "text/plain": [
       "             MEDV         AGE         NOX         DIS\n",
       "count  506.000000  506.000000  506.000000  506.000000\n",
       "mean    22.532806   68.574901    0.554695    3.795043\n",
       "std      9.197104   28.148861    0.115878    2.105710\n",
       "min      5.000000    2.900000    0.385000    1.129600\n",
       "25%     17.025000   45.025000    0.449000    2.100175\n",
       "50%     21.200000   77.500000    0.538000    3.207450\n",
       "75%     25.000000   94.075000    0.624000    5.188425\n",
       "max     50.000000  100.000000    0.871000   12.126500"
      ]
     },
     "execution_count": 511,
     "metadata": {},
     "output_type": "execute_result"
    }
   ],
   "source": [
    "# Descriptive or summary statistics of Boston House Prices dataset for all the features including target\n",
    "myDataFrame.describe()"
   ]
  },
  {
   "cell_type": "markdown",
   "metadata": {},
   "source": [
    "# Plotting and Correlation "
   ]
  },
  {
   "cell_type": "code",
   "execution_count": 512,
   "metadata": {},
   "outputs": [],
   "source": [
    "# import matplotlib for visual representation of the data\n",
    "%matplotlib inline\n",
    "import matplotlib.pyplot as plt\n",
    "import seaborn; seaborn.set()  # for plot styling"
   ]
  },
  {
   "cell_type": "code",
   "execution_count": 513,
   "metadata": {},
   "outputs": [
    {
     "data": {
      "text/plain": [
       "Text(0.5,1,'Plotting Feature AGE')"
      ]
     },
     "execution_count": 513,
     "metadata": {},
     "output_type": "execute_result"
    },
    {
     "data": {
      "image/png": "[encoded data removed]",
      "text/plain": [
       "<Figure size 432x288 with 1 Axes>"
      ]
     },
     "metadata": {},
     "output_type": "display_data"
    }
   ],
   "source": [
    "# generate a histogram for AGE feature from Boston House Price dataset\n",
    "age_data = np.array(boston.data[:,6])\n",
    "plt.hist(age_data)\n",
    "plt.xlabel(boston.feature_names[6])\n",
    "plt.ylabel('Frequency')\n",
    "plt.title('Plotting Feature AGE')"
   ]
  },
  {
   "cell_type": "code",
   "execution_count": 514,
   "metadata": {},
   "outputs": [
    {
     "data": {
      "text/plain": [
       "Text(0.5,1,'Plotting Feature NOX')"
      ]
     },
     "execution_count": 514,
     "metadata": {},
     "output_type": "execute_result"
    },
    {
     "data": {
      "image/png": "[encoded data removed]",
      "text/plain": [
       "<Figure size 432x288 with 1 Axes>"
      ]
     },
     "metadata": {},
     "output_type": "display_data"
    }
   ],
   "source": [
    "# generate a histogram for NOX feature from Boston House Price dataset\n",
    "nox_data = np.array(boston.data[:,4])\n",
    "plt.hist(nox_data)\n",
    "plt.xlabel(boston.feature_names[4])\n",
    "plt.ylabel('Frequency')\n",
    "plt.title('Plotting Feature NOX')"
   ]
  },
  {
   "cell_type": "code",
   "execution_count": 515,
   "metadata": {},
   "outputs": [
    {
     "data": {
      "text/plain": [
       "Text(0.5,1,'Plotting Feature DIS')"
      ]
     },
     "execution_count": 515,
     "metadata": {},
     "output_type": "execute_result"
    },
    {
     "data": {
      "image/png": "[encoded data removed]",
      "text/plain": [
       "<Figure size 432x288 with 1 Axes>"
      ]
     },
     "metadata": {},
     "output_type": "display_data"
    }
   ],
   "source": [
    "# generate a histogram for DIS feature from Boston House Price dataset\n",
    "dis_data = np.array(boston.data[:,7])\n",
    "plt.hist(dis_data)\n",
    "plt.xlabel(boston.feature_names[7])\n",
    "plt.ylabel('Frequency')\n",
    "plt.title('Plotting Feature DIS')"
   ]
  },
  {
   "cell_type": "code",
   "execution_count": 516,
   "metadata": {},
   "outputs": [
    {
     "data": {
      "text/plain": [
       "Text(0.5,1,'AGE VS Price')"
      ]
     },
     "execution_count": 516,
     "metadata": {},
     "output_type": "execute_result"
    },
    {
     "data": {
      "image/png": "[encoded data removed]",
      "text/plain": [
       "<Figure size 432x288 with 1 Axes>"
      ]
     },
     "metadata": {},
     "output_type": "display_data"
    }
   ],
   "source": [
    "# generate a scatter plot for AGE feature verses price (MEDV) from Boston House Price dataset\n",
    "plt.scatter(boston.data[:, 6], boston.target)\n",
    "plt.xlabel(boston.feature_names[6])\n",
    "plt.ylabel('Price')\n",
    "plt.title('AGE VS Price')"
   ]
  },
  {
   "cell_type": "code",
   "execution_count": 517,
   "metadata": {},
   "outputs": [
    {
     "data": {
      "text/plain": [
       "Text(0.5,1,'NOX VS Price')"
      ]
     },
     "execution_count": 517,
     "metadata": {},
     "output_type": "execute_result"
    },
    {
     "data": {
      "image/png": "[encoded data removed]",
      "text/plain": [
       "<Figure size 432x288 with 1 Axes>"
      ]
     },
     "metadata": {},
     "output_type": "display_data"
    }
   ],
   "source": [
    "# generate a scatter plot for NOX feature verses price (MEDV) from Boston House Price dataset\n",
    "plt.scatter(boston.data[:, 4], boston.target)\n",
    "plt.xlabel(boston.feature_names[4])\n",
    "plt.ylabel('Price')\n",
    "plt.title('NOX VS Price')"
   ]
  },
  {
   "cell_type": "code",
   "execution_count": 518,
   "metadata": {},
   "outputs": [
    {
     "data": {
      "text/plain": [
       "Text(0.5,1,'DIS VS Price')"
      ]
     },
     "execution_count": 518,
     "metadata": {},
     "output_type": "execute_result"
    },
    {
     "data": {
      "image/png": "[encoded data removed]",
      "text/plain": [
       "<Figure size 432x288 with 1 Axes>"
      ]
     },
     "metadata": {},
     "output_type": "display_data"
    }
   ],
   "source": [
    "# generate a scatter plot for DIS feature verses price (MEDV) from Boston House Price dataset\n",
    "plt.scatter(boston.data[:, 7], boston.target)\n",
    "plt.xlabel(boston.feature_names[7])\n",
    "plt.ylabel('Price')\n",
    "plt.title('DIS VS Price')"
   ]
  },
  {
   "cell_type": "code",
   "execution_count": 519,
   "metadata": {},
   "outputs": [
    {
     "data": {
      "text/plain": [
       "array([[ 1.        , -0.37695457],\n",
       "       [-0.37695457,  1.        ]])"
      ]
     },
     "execution_count": 519,
     "metadata": {},
     "output_type": "execute_result"
    }
   ],
   "source": [
    "# report the Pearson coefﬁcient of the feature AGE with price (MEDV). AGE is negatively correlated to price\n",
    "np.corrcoef(boston.data[:,6], boston.target)"
   ]
  },
  {
   "cell_type": "code",
   "execution_count": 520,
   "metadata": {},
   "outputs": [
    {
     "data": {
      "text/plain": [
       "array([[ 1.        , -0.42732077],\n",
       "       [-0.42732077,  1.        ]])"
      ]
     },
     "execution_count": 520,
     "metadata": {},
     "output_type": "execute_result"
    }
   ],
   "source": [
    "# report the Pearson coefﬁcient of the feature NOX with price (MEDV). NOX is negatively correlated to the price\n",
    "np.corrcoef(boston.data[:,4], boston.target)"
   ]
  },
  {
   "cell_type": "code",
   "execution_count": 521,
   "metadata": {
    "scrolled": true
   },
   "outputs": [
    {
     "data": {
      "text/plain": [
       "array([[1.        , 0.24992873],\n",
       "       [0.24992873, 1.        ]])"
      ]
     },
     "execution_count": 521,
     "metadata": {},
     "output_type": "execute_result"
    }
   ],
   "source": [
    "# report the Pearson coefﬁcient of the feature DIS with price (MEDV). DIS is positively correlated to the price\n",
    "np.corrcoef(boston.data[:,7], boston.target)"
   ]
  },
  {
   "cell_type": "markdown",
   "metadata": {},
   "source": [
    "# Correlation Evaluation \n",
    "\n",
    "DIS feature correlates to the price the best while NOX and DIS feature is negatively correlated to the price. NOX correlates to the price the worst."
   ]
  },
  {
   "cell_type": "markdown",
   "metadata": {},
   "source": [
    "# Home Similarity \n",
    "\n",
    "Building a distance matrix for 4 homes (99, 154, 203, 485) using the euclidean and distance function"
   ]
  },
  {
   "cell_type": "code",
   "execution_count": 522,
   "metadata": {},
   "outputs": [],
   "source": [
    "#import distance function from scipy.spatial to calculate the euclidean distance\n",
    "from scipy.spatial import distance"
   ]
  },
  {
   "cell_type": "code",
   "execution_count": 523,
   "metadata": {},
   "outputs": [
    {
     "name": "stdout",
     "output_type": "stream",
     "text": [
      "Home Similarity for AGE: \n",
      "\n",
      "\t99\t154\t203\t485\t\n",
      "\n",
      "99\t0.00\t\n",
      "\n",
      "154\t49.70\t0.00\t\n",
      "\n",
      "203\t44.60\t94.30\t0.00\t\n",
      "\n",
      "485\t1.40\t48.30\t46.00\t0.00\t\n",
      "\n",
      "====================================\n",
      "Home Similarity for NOX: \n",
      "\n",
      "\t99\t154\t203\t485\t\n",
      "\n",
      "99\t0.00\t\n",
      "\n",
      "154\t16.63\t0.00\t\n",
      "\n",
      "203\t15.33\t31.95\t0.00\t\n",
      "\n",
      "485\t12.14\t4.49\t27.47\t0.00\t\n",
      "\n",
      "====================================\n",
      "Home Similarity for DIS: \n",
      "\n",
      "\t99\t154\t203\t485\t\n",
      "\n",
      "99\t0.00\t\n",
      "\n",
      "154\t14.45\t0.00\t\n",
      "\n",
      "203\t13.68\t28.13\t0.00\t\n",
      "\n",
      "485\t12.50\t1.96\t26.17\t0.00\t\n",
      "\n",
      "====================================\n"
     ]
    }
   ],
   "source": [
    "houseIndex = [99, 154, 203, 485]\n",
    "feature = [6, 4, 7]\n",
    "\n",
    "# iterate through the feature 4, 6, 7 i.e., NOX, AGE, DIS respectively\n",
    "for p in feature:\n",
    "    if p == 4:\n",
    "        print (\"Home Similarity for NOX: \\n\")\n",
    "    if p == 6:\n",
    "        print (\"Home Similarity for AGE: \\n\")\n",
    "    if p == 7:\n",
    "        print (\"Home Similarity for DIS: \\n\")\n",
    "        \n",
    "    print(end = '\\t')\n",
    "    \n",
    "    # iterate through the house index 99, 154, 203, 485\n",
    "    for index  in houseIndex: \n",
    "        # print the column label\n",
    "        print(index, end = '\\t')\n",
    "    print('\\n')\n",
    "\n",
    "    for i in houseIndex:  \n",
    "        #print the row label\n",
    "        print(i, end= '\\t')\n",
    "        for j in houseIndex:   \n",
    "            if j <= i:\n",
    "                # calculate and print the distance matrix for all the 4 houses [99, 154, 203, 485]\n",
    "                dst = distance.euclidean((boston.target[i] - boston.target[j]), (boston.data[i, p] - boston.data[j, p]))\n",
    "                print('%.2f' %dst , end = '\\t')\n",
    "        print('\\n')\n",
    "\n",
    "    print(\"====================================\")"
   ]
  },
  {
   "cell_type": "markdown",
   "metadata": {},
   "source": [
    "The most similar pair of house for AGE feature is [99, 154] as it has the least distance <br>\n",
    "The most similar pair of house for NOX feature is [154, 485] as it has the least distance <br>\n",
    "The most similar pair of house for DIS feature is [154, 485] as it has the least distance"
   ]
  },
  {
   "cell_type": "markdown",
   "metadata": {},
   "source": [
    "# Augmenting House Price Data\n",
    "\n",
    "https://www.kaggle.com/c/brm-predicting-house-prices/data\n",
    "\n",
    "BRM Predicting House Price dataset could be potentially integrated with similar housing price data.\n",
    "\n",
    "Year and month of sale, sale condition, lot area, neighbourhood are some valuable information the data might add."
   ]
  },
  {
   "cell_type": "code",
   "execution_count": null,
   "metadata": {},
   "outputs": [],
   "source": []
  }
 ],
 "metadata": {
  "kernelspec": {
   "display_name": "Python 3",
   "language": "python",
   "name": "python3"
  },
  "language_info": {
   "codemirror_mode": {
    "name": "ipython",
    "version": 3
   },
   "file_extension": ".py",
   "mimetype": "text/x-python",
   "name": "python",
   "nbconvert_exporter": "python",
   "pygments_lexer": "ipython3",
   "version": "3.7.0"
  }
 },
 "nbformat": 4,
 "nbformat_minor": 2
}
